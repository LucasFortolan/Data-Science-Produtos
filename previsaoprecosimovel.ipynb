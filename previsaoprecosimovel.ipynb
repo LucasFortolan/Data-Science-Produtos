{
 "cells": [
  {
   "cell_type": "markdown",
   "id": "51247679",
   "metadata": {
    "_cell_guid": "023ae138-6c29-47d0-8454-ccfcbc388011",
    "_uuid": "c2cdcd26-d191-493a-9f95-4561133bf459",
    "collapsed": false,
    "jupyter": {
     "outputs_hidden": false
    },
    "papermill": {
     "duration": 0.004626,
     "end_time": "2025-09-22T02:48:57.034179",
     "exception": false,
     "start_time": "2025-09-22T02:48:57.029553",
     "status": "completed"
    },
    "tags": []
   },
   "source": [
    "# Previsão de Preço de Casas com Regressão Linear\n",
    "Este notebook faz uma análise exploratória, matriz de correlação e modelo de regressão linear para prever preços de casas com base em suas características."
   ]
  },
  {
   "cell_type": "code",
   "execution_count": 1,
   "id": "0f2f4446",
   "metadata": {
    "_cell_guid": "9fb33886-bf51-4eed-9292-edff63bc617f",
    "_uuid": "bbdfbf2b-445b-4ea7-8424-70eeb593e3d6",
    "collapsed": false,
    "execution": {
     "iopub.execute_input": "2025-09-22T02:48:57.043673Z",
     "iopub.status.busy": "2025-09-22T02:48:57.043304Z",
     "iopub.status.idle": "2025-09-22T02:49:01.260886Z",
     "shell.execute_reply": "2025-09-22T02:49:01.259879Z"
    },
    "jupyter": {
     "outputs_hidden": false
    },
    "papermill": {
     "duration": 4.224146,
     "end_time": "2025-09-22T02:49:01.262654",
     "exception": false,
     "start_time": "2025-09-22T02:48:57.038508",
     "status": "completed"
    },
    "tags": []
   },
   "outputs": [],
   "source": [
    "# Importando bibliotecas\n",
    "import numpy as np\n",
    "import pandas as pd\n",
    "import seaborn as sns\n",
    "import matplotlib.pyplot as plt\n",
    "from sklearn.model_selection import train_test_split\n",
    "from sklearn.linear_model import LinearRegression\n",
    "from sklearn.metrics import mean_squared_error"
   ]
  },
  {
   "cell_type": "markdown",
   "id": "2b51354d",
   "metadata": {
    "_cell_guid": "f3104331-67f2-4756-b3a7-b1046930bcb3",
    "_uuid": "988f6173-5616-46bf-9ef8-f06f46b875ea",
    "collapsed": false,
    "jupyter": {
     "outputs_hidden": false
    },
    "papermill": {
     "duration": 0.003817,
     "end_time": "2025-09-22T02:49:01.271007",
     "exception": false,
     "start_time": "2025-09-22T02:49:01.267190",
     "status": "completed"
    },
    "tags": []
   },
   "source": [
    "# 1 - Leitura do Dataset"
   ]
  },
  {
   "cell_type": "code",
   "execution_count": 2,
   "id": "14985b50",
   "metadata": {
    "_cell_guid": "8b5ed76d-d2c7-43ff-8008-3092e1686a71",
    "_uuid": "d562f637-d193-4483-b5c3-d318ab24daac",
    "collapsed": false,
    "execution": {
     "iopub.execute_input": "2025-09-22T02:49:01.280381Z",
     "iopub.status.busy": "2025-09-22T02:49:01.279877Z",
     "iopub.status.idle": "2025-09-22T02:49:01.321460Z",
     "shell.execute_reply": "2025-09-22T02:49:01.320658Z"
    },
    "jupyter": {
     "outputs_hidden": false
    },
    "papermill": {
     "duration": 0.04787,
     "end_time": "2025-09-22T02:49:01.323043",
     "exception": false,
     "start_time": "2025-09-22T02:49:01.275173",
     "status": "completed"
    },
    "tags": []
   },
   "outputs": [
    {
     "data": {
      "text/html": [
       "<div>\n",
       "<style scoped>\n",
       "    .dataframe tbody tr th:only-of-type {\n",
       "        vertical-align: middle;\n",
       "    }\n",
       "\n",
       "    .dataframe tbody tr th {\n",
       "        vertical-align: top;\n",
       "    }\n",
       "\n",
       "    .dataframe thead th {\n",
       "        text-align: right;\n",
       "    }\n",
       "</style>\n",
       "<table border=\"1\" class=\"dataframe\">\n",
       "  <thead>\n",
       "    <tr style=\"text-align: right;\">\n",
       "      <th></th>\n",
       "      <th>price</th>\n",
       "      <th>area</th>\n",
       "      <th>bedrooms</th>\n",
       "      <th>bathrooms</th>\n",
       "      <th>stories</th>\n",
       "      <th>mainroad</th>\n",
       "      <th>guestroom</th>\n",
       "      <th>basement</th>\n",
       "      <th>hotwaterheating</th>\n",
       "      <th>airconditioning</th>\n",
       "      <th>parking</th>\n",
       "      <th>prefarea</th>\n",
       "      <th>furnishingstatus</th>\n",
       "    </tr>\n",
       "  </thead>\n",
       "  <tbody>\n",
       "    <tr>\n",
       "      <th>0</th>\n",
       "      <td>13300000</td>\n",
       "      <td>7420</td>\n",
       "      <td>4</td>\n",
       "      <td>2</td>\n",
       "      <td>3</td>\n",
       "      <td>yes</td>\n",
       "      <td>no</td>\n",
       "      <td>no</td>\n",
       "      <td>no</td>\n",
       "      <td>yes</td>\n",
       "      <td>2</td>\n",
       "      <td>yes</td>\n",
       "      <td>furnished</td>\n",
       "    </tr>\n",
       "    <tr>\n",
       "      <th>1</th>\n",
       "      <td>12250000</td>\n",
       "      <td>8960</td>\n",
       "      <td>4</td>\n",
       "      <td>4</td>\n",
       "      <td>4</td>\n",
       "      <td>yes</td>\n",
       "      <td>no</td>\n",
       "      <td>no</td>\n",
       "      <td>no</td>\n",
       "      <td>yes</td>\n",
       "      <td>3</td>\n",
       "      <td>no</td>\n",
       "      <td>furnished</td>\n",
       "    </tr>\n",
       "    <tr>\n",
       "      <th>2</th>\n",
       "      <td>12250000</td>\n",
       "      <td>9960</td>\n",
       "      <td>3</td>\n",
       "      <td>2</td>\n",
       "      <td>2</td>\n",
       "      <td>yes</td>\n",
       "      <td>no</td>\n",
       "      <td>yes</td>\n",
       "      <td>no</td>\n",
       "      <td>no</td>\n",
       "      <td>2</td>\n",
       "      <td>yes</td>\n",
       "      <td>semi-furnished</td>\n",
       "    </tr>\n",
       "    <tr>\n",
       "      <th>3</th>\n",
       "      <td>12215000</td>\n",
       "      <td>7500</td>\n",
       "      <td>4</td>\n",
       "      <td>2</td>\n",
       "      <td>2</td>\n",
       "      <td>yes</td>\n",
       "      <td>no</td>\n",
       "      <td>yes</td>\n",
       "      <td>no</td>\n",
       "      <td>yes</td>\n",
       "      <td>3</td>\n",
       "      <td>yes</td>\n",
       "      <td>furnished</td>\n",
       "    </tr>\n",
       "    <tr>\n",
       "      <th>4</th>\n",
       "      <td>11410000</td>\n",
       "      <td>7420</td>\n",
       "      <td>4</td>\n",
       "      <td>1</td>\n",
       "      <td>2</td>\n",
       "      <td>yes</td>\n",
       "      <td>yes</td>\n",
       "      <td>yes</td>\n",
       "      <td>no</td>\n",
       "      <td>yes</td>\n",
       "      <td>2</td>\n",
       "      <td>no</td>\n",
       "      <td>furnished</td>\n",
       "    </tr>\n",
       "  </tbody>\n",
       "</table>\n",
       "</div>"
      ],
      "text/plain": [
       "      price  area  bedrooms  bathrooms  stories mainroad guestroom basement  \\\n",
       "0  13300000  7420         4          2        3      yes        no       no   \n",
       "1  12250000  8960         4          4        4      yes        no       no   \n",
       "2  12250000  9960         3          2        2      yes        no      yes   \n",
       "3  12215000  7500         4          2        2      yes        no      yes   \n",
       "4  11410000  7420         4          1        2      yes       yes      yes   \n",
       "\n",
       "  hotwaterheating airconditioning  parking prefarea furnishingstatus  \n",
       "0              no             yes        2      yes        furnished  \n",
       "1              no             yes        3       no        furnished  \n",
       "2              no              no        2      yes   semi-furnished  \n",
       "3              no             yes        3      yes        furnished  \n",
       "4              no             yes        2       no        furnished  "
      ]
     },
     "execution_count": 2,
     "metadata": {},
     "output_type": "execute_result"
    }
   ],
   "source": [
    "df = pd.read_csv('/kaggle/input/housing-prices-dataset/Housing.csv')\n",
    "df.head()"
   ]
  },
  {
   "cell_type": "markdown",
   "id": "40b0535a",
   "metadata": {
    "_cell_guid": "cfd21506-8aa6-43cc-b0b9-70e327b3a9e2",
    "_uuid": "2d18bdd8-dd54-4229-b4f5-05c3bcea439b",
    "collapsed": false,
    "jupyter": {
     "outputs_hidden": false
    },
    "papermill": {
     "duration": 0.004512,
     "end_time": "2025-09-22T02:49:01.331666",
     "exception": false,
     "start_time": "2025-09-22T02:49:01.327154",
     "status": "completed"
    },
    "tags": []
   },
   "source": [
    "# 2 - Limpeza de Dados\n",
    "- Remover linhas com valores nulos\n",
    "- Garantir que as colunas numéricas estejam no formato correto"
   ]
  },
  {
   "cell_type": "code",
   "execution_count": 3,
   "id": "e07582e4",
   "metadata": {
    "_cell_guid": "4e7fc107-1eb0-449f-b116-100e633ee0c3",
    "_uuid": "7450a790-99cb-42e3-b8d6-edbe994ce97f",
    "collapsed": false,
    "execution": {
     "iopub.execute_input": "2025-09-22T02:49:01.341635Z",
     "iopub.status.busy": "2025-09-22T02:49:01.341287Z",
     "iopub.status.idle": "2025-09-22T02:49:01.367085Z",
     "shell.execute_reply": "2025-09-22T02:49:01.365979Z"
    },
    "jupyter": {
     "outputs_hidden": false
    },
    "papermill": {
     "duration": 0.032245,
     "end_time": "2025-09-22T02:49:01.368609",
     "exception": false,
     "start_time": "2025-09-22T02:49:01.336364",
     "status": "completed"
    },
    "tags": []
   },
   "outputs": [
    {
     "name": "stdout",
     "output_type": "stream",
     "text": [
      "<class 'pandas.core.frame.DataFrame'>\n",
      "RangeIndex: 545 entries, 0 to 544\n",
      "Data columns (total 13 columns):\n",
      " #   Column            Non-Null Count  Dtype \n",
      "---  ------            --------------  ----- \n",
      " 0   price             545 non-null    int64 \n",
      " 1   area              545 non-null    int64 \n",
      " 2   bedrooms          545 non-null    int64 \n",
      " 3   bathrooms         545 non-null    int64 \n",
      " 4   stories           545 non-null    int64 \n",
      " 5   mainroad          545 non-null    object\n",
      " 6   guestroom         545 non-null    object\n",
      " 7   basement          545 non-null    object\n",
      " 8   hotwaterheating   545 non-null    object\n",
      " 9   airconditioning   545 non-null    object\n",
      " 10  parking           545 non-null    int64 \n",
      " 11  prefarea          545 non-null    object\n",
      " 12  furnishingstatus  545 non-null    object\n",
      "dtypes: int64(6), object(7)\n",
      "memory usage: 55.5+ KB\n"
     ]
    }
   ],
   "source": [
    "df = df.dropna()\n",
    "df.info()"
   ]
  },
  {
   "cell_type": "markdown",
   "id": "7541c3d9",
   "metadata": {
    "_cell_guid": "1af9af02-47a8-4852-b5dc-8192dac297fc",
    "_uuid": "7eca37f5-25ae-45a2-af0b-0ebc6295203d",
    "collapsed": false,
    "jupyter": {
     "outputs_hidden": false
    },
    "papermill": {
     "duration": 0.003629,
     "end_time": "2025-09-22T02:49:01.376487",
     "exception": false,
     "start_time": "2025-09-22T02:49:01.372858",
     "status": "completed"
    },
    "tags": []
   },
   "source": [
    "# 3 - Transformação e Normalização dos Dados\n",
    "- Conversão de Variáveis categóricas\n",
    "Colunas que possuem valores yes/no -> 1/0"
   ]
  },
  {
   "cell_type": "code",
   "execution_count": 4,
   "id": "99c2ec2e",
   "metadata": {
    "_cell_guid": "06b7c8da-7b63-4a6e-a557-1daed8e624cb",
    "_uuid": "3196465e-bced-4652-a1cf-ce7c3d6a9997",
    "collapsed": false,
    "execution": {
     "iopub.execute_input": "2025-09-22T02:49:01.385638Z",
     "iopub.status.busy": "2025-09-22T02:49:01.385300Z",
     "iopub.status.idle": "2025-09-22T02:49:01.395423Z",
     "shell.execute_reply": "2025-09-22T02:49:01.394655Z"
    },
    "jupyter": {
     "outputs_hidden": false
    },
    "papermill": {
     "duration": 0.01648,
     "end_time": "2025-09-22T02:49:01.396929",
     "exception": false,
     "start_time": "2025-09-22T02:49:01.380449",
     "status": "completed"
    },
    "tags": []
   },
   "outputs": [],
   "source": [
    "colunas_binarias = ['mainroad', 'guestroom', 'basement', 'hotwaterheating', 'airconditioning', 'prefarea']\n",
    "for col in colunas_binarias:\n",
    "    df[col] = df[col].map({'yes': 1, 'no': 0})"
   ]
  },
  {
   "cell_type": "markdown",
   "id": "5b96b658",
   "metadata": {
    "_cell_guid": "eea26cc0-f02a-483a-b800-941139133fdd",
    "_uuid": "c2a9bdb6-5425-4040-b5de-2cd219f2e8cd",
    "collapsed": false,
    "jupyter": {
     "outputs_hidden": false
    },
    "papermill": {
     "duration": 0.004599,
     "end_time": "2025-09-22T02:49:01.405697",
     "exception": false,
     "start_time": "2025-09-22T02:49:01.401098",
     "status": "completed"
    },
    "tags": []
   },
   "source": [
    "# 4 - Matriz de Correlação"
   ]
  },
  {
   "cell_type": "code",
   "execution_count": 5,
   "id": "f265ce6e",
   "metadata": {
    "_cell_guid": "f0eef478-4da2-49ff-b84b-22c05fbfb9c4",
    "_uuid": "ec51f61e-23b5-4ae4-bb04-5fcc1957fcf9",
    "collapsed": false,
    "execution": {
     "iopub.execute_input": "2025-09-22T02:49:01.414790Z",
     "iopub.status.busy": "2025-09-22T02:49:01.414467Z",
     "iopub.status.idle": "2025-09-22T02:49:01.856427Z",
     "shell.execute_reply": "2025-09-22T02:49:01.855428Z"
    },
    "jupyter": {
     "outputs_hidden": false
    },
    "papermill": {
     "duration": 0.448557,
     "end_time": "2025-09-22T02:49:01.858273",
     "exception": false,
     "start_time": "2025-09-22T02:49:01.409716",
     "status": "completed"
    },
    "tags": []
   },
   "outputs": [
    {
     "data": {
      "image/png": "[encoded data removed]",
      "text/plain": [
       "<Figure size 1000x800 with 2 Axes>"
      ]
     },
     "metadata": {},
     "output_type": "display_data"
    }
   ],
   "source": [
    "numeric_cols = ['price', 'area', 'bedrooms', 'bathrooms', 'stories', 'parking', 'airconditioning']\n",
    "correlation_matrix = df[numeric_cols].corr()\n",
    "\n",
    "plt.figure(figsize=(10, 8))\n",
    "sns.heatmap(correlation_matrix, annot=True, cmap='coolwarm', fmt=\".2f\")\n",
    "plt.show()"
   ]
  },
  {
   "cell_type": "markdown",
   "id": "d022fed8",
   "metadata": {
    "_cell_guid": "ff106094-dcee-4826-88c7-971d901ba9a9",
    "_uuid": "9739d079-d8f2-487a-bb85-fc5d3ad737d9",
    "collapsed": false,
    "jupyter": {
     "outputs_hidden": false
    },
    "papermill": {
     "duration": 0.004786,
     "end_time": "2025-09-22T02:49:01.868477",
     "exception": false,
     "start_time": "2025-09-22T02:49:01.863691",
     "status": "completed"
    },
    "tags": []
   },
   "source": [
    "# 5 - Regressão Linear"
   ]
  },
  {
   "cell_type": "code",
   "execution_count": 6,
   "id": "a3cc5367",
   "metadata": {
    "_cell_guid": "9cf17ae0-a946-466a-9bca-188b52bbbd5d",
    "_uuid": "56e1d5f1-d6dc-4456-ae5b-c53506517d2e",
    "collapsed": false,
    "execution": {
     "iopub.execute_input": "2025-09-22T02:49:01.879745Z",
     "iopub.status.busy": "2025-09-22T02:49:01.879390Z",
     "iopub.status.idle": "2025-09-22T02:49:01.916946Z",
     "shell.execute_reply": "2025-09-22T02:49:01.915923Z"
    },
    "jupyter": {
     "outputs_hidden": false
    },
    "papermill": {
     "duration": 0.044934,
     "end_time": "2025-09-22T02:49:01.918401",
     "exception": false,
     "start_time": "2025-09-22T02:49:01.873467",
     "status": "completed"
    },
    "tags": []
   },
   "outputs": [
    {
     "name": "stdout",
     "output_type": "stream",
     "text": [
      "Coeficientes: [2.52928535e+02 1.02998522e+05 1.17330204e+06 3.81482470e+05\n",
      " 2.72991993e+05 8.44621030e+05 8.12887988e+05]\n",
      "Intercepto: 295876.30\n",
      "Erro Quadrático Médio (MSE): 1955050222747.25\n",
      "Coeficiente de Determinação (R²): 0.61\n",
      "\n",
      "Impacto das features no preço:\n",
      "area: 252.93\n",
      "bedrooms: 102,998.52\n",
      "bathrooms: 1,173,302.04\n",
      "stories: 381,482.47\n",
      "parking: 272,991.99\n",
      "airconditioning: 844,621.03\n",
      "prefarea: 812,887.99\n"
     ]
    }
   ],
   "source": [
    "# Definindo features e target\n",
    "features = ['area', 'bedrooms', 'bathrooms', 'stories', 'parking', 'airconditioning', 'prefarea']\n",
    "X = df[features]\n",
    "y = df['price']\n",
    "\n",
    "# Dividindo em treino e teste\n",
    "X_train, X_test, y_train, y_test = train_test_split(X, y, test_size=0.2, random_state=42)\n",
    "\n",
    "# Criando o modelo e treinando\n",
    "lr = LinearRegression(fit_intercept=True)\n",
    "lr.fit(X_train, y_train)\n",
    "\n",
    "# Previsões\n",
    "y_pred = lr.predict(X_test)\n",
    "\n",
    "# Avaliando o modelo\n",
    "mse = mean_squared_error(y_test, y_pred)\n",
    "r2score = lr.score(X_test, y_test)\n",
    "\n",
    "print(f\"Coeficientes: {lr.coef_}\")\n",
    "print(f\"Intercepto: {lr.intercept_:.2f}\")\n",
    "print(f\"Erro Quadrático Médio (MSE): {mse:.2f}\")\n",
    "print(f\"Coeficiente de Determinação (R²): {r2score:.2f}\")\n",
    "\n",
    "# Impacto das features\n",
    "print(\"\\nImpacto das features no preço:\")\n",
    "for feat, coef in zip(features, lr.coef_):\n",
    "    print(f\"{feat}: {coef:,.2f}\")"
   ]
  },
  {
   "cell_type": "markdown",
   "id": "5c5dafcb",
   "metadata": {
    "_cell_guid": "6a67bcba-c37a-4388-a016-6d2c27fe8ba2",
    "_uuid": "2d8d8522-e96e-428d-856c-aa4df60537a1",
    "collapsed": false,
    "jupyter": {
     "outputs_hidden": false
    },
    "papermill": {
     "duration": 0.004867,
     "end_time": "2025-09-22T02:49:01.928397",
     "exception": false,
     "start_time": "2025-09-22T02:49:01.923530",
     "status": "completed"
    },
    "tags": []
   },
   "source": [
    "# 6 - Comparação Preço Real vs Preço Previsto"
   ]
  },
  {
   "cell_type": "code",
   "execution_count": 7,
   "id": "309574cf",
   "metadata": {
    "_cell_guid": "39f7a3b4-d6cd-4b36-a6f5-1e9d36550a57",
    "_uuid": "2160c108-ed5a-4585-9fdd-660fa211d933",
    "collapsed": false,
    "execution": {
     "iopub.execute_input": "2025-09-22T02:49:01.940012Z",
     "iopub.status.busy": "2025-09-22T02:49:01.939405Z",
     "iopub.status.idle": "2025-09-22T02:49:01.953116Z",
     "shell.execute_reply": "2025-09-22T02:49:01.952136Z"
    },
    "jupyter": {
     "outputs_hidden": false
    },
    "papermill": {
     "duration": 0.021032,
     "end_time": "2025-09-22T02:49:01.954544",
     "exception": false,
     "start_time": "2025-09-22T02:49:01.933512",
     "status": "completed"
    },
    "tags": []
   },
   "outputs": [
    {
     "data": {
      "text/html": [
       "<div>\n",
       "<style scoped>\n",
       "    .dataframe tbody tr th:only-of-type {\n",
       "        vertical-align: middle;\n",
       "    }\n",
       "\n",
       "    .dataframe tbody tr th {\n",
       "        vertical-align: top;\n",
       "    }\n",
       "\n",
       "    .dataframe thead th {\n",
       "        text-align: right;\n",
       "    }\n",
       "</style>\n",
       "<table border=\"1\" class=\"dataframe\">\n",
       "  <thead>\n",
       "    <tr style=\"text-align: right;\">\n",
       "      <th></th>\n",
       "      <th>area</th>\n",
       "      <th>bedrooms</th>\n",
       "      <th>bathrooms</th>\n",
       "      <th>stories</th>\n",
       "      <th>parking</th>\n",
       "      <th>airconditioning</th>\n",
       "      <th>prefarea</th>\n",
       "      <th>Preço Real</th>\n",
       "      <th>Preço Previsto</th>\n",
       "    </tr>\n",
       "  </thead>\n",
       "  <tbody>\n",
       "    <tr>\n",
       "      <th>316</th>\n",
       "      <td>5900</td>\n",
       "      <td>4</td>\n",
       "      <td>2</td>\n",
       "      <td>2</td>\n",
       "      <td>1</td>\n",
       "      <td>0</td>\n",
       "      <td>0</td>\n",
       "      <td>4060000</td>\n",
       "      <td>5.582710e+06</td>\n",
       "    </tr>\n",
       "    <tr>\n",
       "      <th>77</th>\n",
       "      <td>6500</td>\n",
       "      <td>3</td>\n",
       "      <td>2</td>\n",
       "      <td>3</td>\n",
       "      <td>0</td>\n",
       "      <td>1</td>\n",
       "      <td>1</td>\n",
       "      <td>6650000</td>\n",
       "      <td>7.397468e+06</td>\n",
       "    </tr>\n",
       "    <tr>\n",
       "      <th>360</th>\n",
       "      <td>4040</td>\n",
       "      <td>2</td>\n",
       "      <td>1</td>\n",
       "      <td>1</td>\n",
       "      <td>0</td>\n",
       "      <td>0</td>\n",
       "      <td>0</td>\n",
       "      <td>3710000</td>\n",
       "      <td>3.078489e+06</td>\n",
       "    </tr>\n",
       "    <tr>\n",
       "      <th>90</th>\n",
       "      <td>5000</td>\n",
       "      <td>3</td>\n",
       "      <td>1</td>\n",
       "      <td>2</td>\n",
       "      <td>0</td>\n",
       "      <td>1</td>\n",
       "      <td>0</td>\n",
       "      <td>6440000</td>\n",
       "      <td>4.650403e+06</td>\n",
       "    </tr>\n",
       "    <tr>\n",
       "      <th>493</th>\n",
       "      <td>3960</td>\n",
       "      <td>3</td>\n",
       "      <td>1</td>\n",
       "      <td>1</td>\n",
       "      <td>0</td>\n",
       "      <td>0</td>\n",
       "      <td>0</td>\n",
       "      <td>2800000</td>\n",
       "      <td>3.161253e+06</td>\n",
       "    </tr>\n",
       "  </tbody>\n",
       "</table>\n",
       "</div>"
      ],
      "text/plain": [
       "     area  bedrooms  bathrooms  stories  parking  airconditioning  prefarea  \\\n",
       "316  5900         4          2        2        1                0         0   \n",
       "77   6500         3          2        3        0                1         1   \n",
       "360  4040         2          1        1        0                0         0   \n",
       "90   5000         3          1        2        0                1         0   \n",
       "493  3960         3          1        1        0                0         0   \n",
       "\n",
       "     Preço Real  Preço Previsto  \n",
       "316     4060000    5.582710e+06  \n",
       "77      6650000    7.397468e+06  \n",
       "360     3710000    3.078489e+06  \n",
       "90      6440000    4.650403e+06  \n",
       "493     2800000    3.161253e+06  "
      ]
     },
     "execution_count": 7,
     "metadata": {},
     "output_type": "execute_result"
    }
   ],
   "source": [
    "df_test = X_test.copy()\n",
    "df_test['Preço Real'] = y_test\n",
    "df_test['Preço Previsto'] = y_pred\n",
    "df_test.head()"
   ]
  },
  {
   "cell_type": "markdown",
   "id": "87b1f37a",
   "metadata": {
    "_cell_guid": "14a58e86-7045-4e43-a14a-63f4f07aae64",
    "_uuid": "a6c70804-97c3-4681-ab3f-c55b0f725181",
    "collapsed": false,
    "jupyter": {
     "outputs_hidden": false
    },
    "papermill": {
     "duration": 0.004881,
     "end_time": "2025-09-22T02:49:01.964875",
     "exception": false,
     "start_time": "2025-09-22T02:49:01.959994",
     "status": "completed"
    },
    "tags": []
   },
   "source": [
    "# 7 - Desvio Padrão dos Resíduos"
   ]
  },
  {
   "cell_type": "code",
   "execution_count": 8,
   "id": "f90bd67d",
   "metadata": {
    "_cell_guid": "05979346-a3fd-4acc-af51-3605a5ccb420",
    "_uuid": "c1b42553-fd10-4f10-97eb-54d5143f0b64",
    "collapsed": false,
    "execution": {
     "iopub.execute_input": "2025-09-22T02:49:01.976317Z",
     "iopub.status.busy": "2025-09-22T02:49:01.976020Z",
     "iopub.status.idle": "2025-09-22T02:49:01.981767Z",
     "shell.execute_reply": "2025-09-22T02:49:01.980782Z"
    },
    "jupyter": {
     "outputs_hidden": false
    },
    "papermill": {
     "duration": 0.013228,
     "end_time": "2025-09-22T02:49:01.983234",
     "exception": false,
     "start_time": "2025-09-22T02:49:01.970006",
     "status": "completed"
    },
    "tags": []
   },
   "outputs": [
    {
     "name": "stdout",
     "output_type": "stream",
     "text": [
      "Desvio padrão: R$ 1,395,332.45\n"
     ]
    }
   ],
   "source": [
    "residuos = y_test - y_pred\n",
    "desvio_padrao = np.std(residuos)\n",
    "print(f\"Desvio padrão: R$ {desvio_padrao:,.2f}\")"
   ]
  },
  {
   "cell_type": "markdown",
   "id": "7dca3903",
   "metadata": {
    "_cell_guid": "e6d6fed4-ccd3-41b6-8bf5-98c00862fe8f",
    "_uuid": "55193c15-d286-4322-894a-cd1326564fb3",
    "collapsed": false,
    "jupyter": {
     "outputs_hidden": false
    },
    "papermill": {
     "duration": 0.005206,
     "end_time": "2025-09-22T02:49:01.994101",
     "exception": false,
     "start_time": "2025-09-22T02:49:01.988895",
     "status": "completed"
    },
    "tags": []
   },
   "source": [
    "# 8 - Gráfico Preço Real x Preço Previsto"
   ]
  },
  {
   "cell_type": "code",
   "execution_count": 9,
   "id": "60eb3a12",
   "metadata": {
    "_cell_guid": "0714fe4d-0ebd-4c6c-a3c4-8472d3163d62",
    "_uuid": "8667f781-f146-4615-bd61-9ce5d93db003",
    "collapsed": false,
    "execution": {
     "iopub.execute_input": "2025-09-22T02:49:02.006398Z",
     "iopub.status.busy": "2025-09-22T02:49:02.006058Z",
     "iopub.status.idle": "2025-09-22T02:49:02.213452Z",
     "shell.execute_reply": "2025-09-22T02:49:02.212389Z"
    },
    "jupyter": {
     "outputs_hidden": false
    },
    "papermill": {
     "duration": 0.215695,
     "end_time": "2025-09-22T02:49:02.215154",
     "exception": false,
     "start_time": "2025-09-22T02:49:01.999459",
     "status": "completed"
    },
    "tags": []
   },
   "outputs": [
    {
     "data": {
      "image/png": "[encoded data removed]",
      "text/plain": [
       "<Figure size 800x600 with 1 Axes>"
      ]
     },
     "metadata": {},
     "output_type": "display_data"
    }
   ],
   "source": [
    "plt.figure(figsize=(8,6))\n",
    "plt.scatter(y_test, y_pred, alpha=0.6)\n",
    "plt.plot([y_test.min(), y_test.max()], [y_test.min(), y_test.max()], 'r--', lw=2)\n",
    "plt.xlabel(\"Preço Real\")\n",
    "plt.ylabel(\"Preço Previsto\")\n",
    "plt.title(\"Preço Real x Preço Previsto\")\n",
    "plt.show()"
   ]
  }
 ],
 "metadata": {
  "kaggle": {
   "accelerator": "none",
   "dataSources": [
    {
     "datasetId": 1859421,
     "sourceId": 3036086,
     "sourceType": "datasetVersion"
    }
   ],
   "dockerImageVersionId": 31089,
   "isGpuEnabled": false,
   "isInternetEnabled": false,
   "language": "python",
   "sourceType": "notebook"
  },
  "kernelspec": {
   "display_name": "Python 3",
   "language": "python",
   "name": "python3"
  },
  "language_info": {
   "codemirror_mode": {
    "name": "ipython",
    "version": 3
   },
   "file_extension": ".py",
   "mimetype": "text/x-python",
   "name": "python",
   "nbconvert_exporter": "python",
   "pygments_lexer": "ipython3",
   "version": "3.11.13"
  },
  "papermill": {
   "default_parameters": {},
   "duration": 11.639695,
   "end_time": "2025-09-22T02:49:02.942019",
   "environment_variables": {},
   "exception": null,
   "input_path": "__notebook__.ipynb",
   "output_path": "__notebook__.ipynb",
   "parameters": {},
   "start_time": "2025-09-22T02:48:51.302324",
   "version": "2.6.0"
  }
 },
 "nbformat": 4,
 "nbformat_minor": 5
}
